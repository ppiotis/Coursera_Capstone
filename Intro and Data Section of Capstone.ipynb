{
 "cells": [
  {
   "cell_type": "markdown",
   "metadata": {},
   "source": [
    "# Final Capstone Assignment"
   ]
  },
  {
   "cell_type": "markdown",
   "metadata": {
    "collapsed": true
   },
   "source": [
    "## Introduction to EmmiGREATion Pty Ltd and Business Problem"
   ]
  },
  {
   "cell_type": "markdown",
   "metadata": {},
   "source": [
    "Emmigreation is a company that was founded to help people move seemlessly from one city to another. The company has noticed that when previous clients have moved to new neighbourhoods that happen to show some similarity to their previous home, they were far happier than those who moved to neighbourhoods that showed no similarities. This has led to Emmigreation hiring an IBM Data Scientist to determine if there was a way that the company could propose specific neighbourhoods to their clients to help achieve this outcome using a more scientific approach. The following report will determine how this can be done as well as going through an existing client's options for moving into a new city."
   ]
  },
  {
   "cell_type": "markdown",
   "metadata": {},
   "source": [
    "## Data  "
   ]
  },
  {
   "cell_type": "markdown",
   "metadata": {},
   "source": [
    "The data that will be analysed will be the neighbourhoods of Toronto together with the neighbourhoods of New York. The data sets will be acquired the same way as before in the IBM Capstone course including the coordinates of each of the neighbourhoods. Using the Foursqaure API, we will be able link the closest/most-common amenities to these neighbourhoods to build up the data set required for the analysis. Once we have each neighbourhood from Toronto and New York City in one data set, with associated coordinates plus top 10 most common amenities within a certain radius, then we will be ready to run our analysis.\n"
   ]
  },
  {
   "cell_type": "markdown",
   "metadata": {},
   "source": [
    "## Methodology\n",
    "\n",
    "The methodology will use web scraping to pull data for Toronto and New York City neighbourhoods. The latitudes and longitudes of these neighbourhoods will then be linked and turned into a dataframe for analysis. The Foursquare API will then be utilised to link nearby amenities to the different neighbourhoods, which will then begin to build up profiles/characteristics for each neighbourhood. Using this dataset, we will then run a k-means clustering machine learning algorithm to determine which of the neighburhoods are similar. From this dataset, we can determine which Toronto neighbourhoods are similar to those of New York City. Emmigreation will be able to use this dataset to guide its clients on where they should consider moving to when moving in between these cities. This will achieve the outcomes set out in the introduction above.\n",
    "\n",
    "Lastly, we will look at one specific example of a client wanting to move from one neighbourhood to another across the aforementioned cities."
   ]
  },
  {
   "cell_type": "code",
   "execution_count": null,
   "metadata": {
    "collapsed": true
   },
   "outputs": [],
   "source": []
  }
 ],
 "metadata": {
  "kernelspec": {
   "display_name": "Python 3.5",
   "language": "python",
   "name": "python3"
  },
  "language_info": {
   "codemirror_mode": {
    "name": "ipython",
    "version": 3
   },
   "file_extension": ".py",
   "mimetype": "text/x-python",
   "name": "python",
   "nbconvert_exporter": "python",
   "pygments_lexer": "ipython3",
   "version": "3.5.5"
  }
 },
 "nbformat": 4,
 "nbformat_minor": 1
}
